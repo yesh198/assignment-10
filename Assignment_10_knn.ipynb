{
  "nbformat": 4,
  "nbformat_minor": 0,
  "metadata": {
    "colab": {
      "name": "Assignment 10 knn.ipynb",
      "provenance": []
    },
    "kernelspec": {
      "name": "python3",
      "display_name": "Python 3"
    },
    "language_info": {
      "name": "python"
    }
  },
  "cells": [
    {
      "cell_type": "code",
      "execution_count": 1,
      "metadata": {
        "id": "SzgoWqFC2uIs"
      },
      "outputs": [],
      "source": [
        "import pandas as pd\n",
        "import matplotlib.pyplot as plt\n",
        "import seaborn as sns\n",
        "import numpy as np"
      ]
    },
    {
      "cell_type": "code",
      "source": [
        "from sklearn.neighbors import KNeighborsClassifier\n",
        "from sklearn.model_selection import train_test_split\n",
        "from sklearn.preprocessing import MinMaxScaler\n",
        "from sklearn.metrics import confusion_matrix\n",
        "from sklearn.metrics import accuracy_score\n",
        "from sklearn.preprocessing import LabelEncoder\n",
        "from sklearn.model_selection import KFold,cross_val_score\n",
        "from sklearn.ensemble import RandomForestClassifier"
      ],
      "metadata": {
        "id": "PQ9qnHEl21Kp"
      },
      "execution_count": 17,
      "outputs": []
    },
    {
      "cell_type": "code",
      "source": [
        "traindf = pd.read_csv('/content/trainKNN.txt')"
      ],
      "metadata": {
        "id": "8H638Wda23fB"
      },
      "execution_count": 14,
      "outputs": []
    },
    {
      "cell_type": "code",
      "source": [
        "traindf.columns = ['id','refractiveindex','sodium','magnesium','aluminum','silicon','potassium','calcium','barium','iron','types of glass']"
      ],
      "metadata": {
        "id": "zBnc-HYw3fow"
      },
      "execution_count": 15,
      "outputs": []
    },
    {
      "cell_type": "code",
      "source": [
        "testdf = pd.read_csv('/content/testKNN.txt')\n"
      ],
      "metadata": {
        "id": "pYr5vC_73gNN"
      },
      "execution_count": 81,
      "outputs": []
    },
    {
      "cell_type": "code",
      "source": [
        "testdf.columns = ['id','refractiveindex','sodium','magnesium','aluminum','silicon','potassium','calcium','barium','iron','types of glass']"
      ],
      "metadata": {
        "id": "phX_u_Qj8di8"
      },
      "execution_count": 85,
      "outputs": []
    },
    {
      "cell_type": "code",
      "source": [
        "testdf"
      ],
      "metadata": {
        "colab": {
          "base_uri": "https://localhost:8080/",
          "height": 582
        },
        "id": "u3dKF0XN81hb",
        "outputId": "4ee0ad3e-b9c9-45f1-a942-0c28fe7dc963"
      },
      "execution_count": 23,
      "outputs": [
        {
          "output_type": "execute_result",
          "data": {
            "text/plain": [
              "     id  refractiveindex  sodium  magnesium  aluminum  silicon  potassium  \\\n",
              "0    69          1.52152   13.12       3.58      0.90    72.20       0.23   \n",
              "1    70          1.52300   13.31       3.58      0.82    71.99       0.12   \n",
              "2   144          1.51709   13.00       3.47      1.79    72.72       0.66   \n",
              "3   145          1.51660   12.99       3.18      1.23    72.97       0.58   \n",
              "4   146          1.51839   12.85       3.67      1.24    72.57       0.62   \n",
              "5   161          1.51832   13.33       3.34      1.54    72.14       0.56   \n",
              "6   162          1.51934   13.64       3.54      0.75    72.65       0.16   \n",
              "7   163          1.52211   14.19       3.78      0.91    71.36       0.23   \n",
              "8   174          1.52043   13.38       0.00      1.40    72.25       0.33   \n",
              "9   175          1.52058   12.85       1.61      2.17    72.18       0.76   \n",
              "10  176          1.52119   12.97       0.33      1.51    73.39       0.13   \n",
              "11  183          1.51916   14.15       0.00      2.09    72.74       0.00   \n",
              "12  184          1.51969   14.56       0.00      0.56    73.48       0.00   \n",
              "13  185          1.51115   17.38       0.00      0.34    75.41       0.00   \n",
              "14  212          1.52065   14.36       0.00      2.02    73.42       0.00   \n",
              "15  213          1.51651   14.38       0.00      1.94    73.61       0.00   \n",
              "16  214          1.51711   14.23       0.00      2.08    73.36       0.00   \n",
              "\n",
              "    calcium  barium  iron  types of glass  \n",
              "0      9.82    0.00  0.16               1  \n",
              "1     10.17    0.00  0.03               1  \n",
              "2      8.18    0.00  0.00               2  \n",
              "3      8.81    0.00  0.24               2  \n",
              "4      8.68    0.00  0.35               2  \n",
              "5      8.99    0.00  0.00               3  \n",
              "6      8.89    0.15  0.24               3  \n",
              "7      9.14    0.00  0.37               3  \n",
              "8     12.50    0.00  0.00               5  \n",
              "9      9.70    0.24  0.51               5  \n",
              "10    11.27    0.00  0.28               5  \n",
              "11    10.88    0.00  0.00               6  \n",
              "12    11.22    0.00  0.00               6  \n",
              "13     6.65    0.00  0.00               6  \n",
              "14     8.44    1.64  0.00               7  \n",
              "15     8.48    1.57  0.00               7  \n",
              "16     8.62    1.67  0.00               7  "
            ],
            "text/html": [
              "\n",
              "  <div id=\"df-ac734fca-db5d-48c0-bc41-793f2a7bb5a9\">\n",
              "    <div class=\"colab-df-container\">\n",
              "      <div>\n",
              "<style scoped>\n",
              "    .dataframe tbody tr th:only-of-type {\n",
              "        vertical-align: middle;\n",
              "    }\n",
              "\n",
              "    .dataframe tbody tr th {\n",
              "        vertical-align: top;\n",
              "    }\n",
              "\n",
              "    .dataframe thead th {\n",
              "        text-align: right;\n",
              "    }\n",
              "</style>\n",
              "<table border=\"1\" class=\"dataframe\">\n",
              "  <thead>\n",
              "    <tr style=\"text-align: right;\">\n",
              "      <th></th>\n",
              "      <th>id</th>\n",
              "      <th>refractiveindex</th>\n",
              "      <th>sodium</th>\n",
              "      <th>magnesium</th>\n",
              "      <th>aluminum</th>\n",
              "      <th>silicon</th>\n",
              "      <th>potassium</th>\n",
              "      <th>calcium</th>\n",
              "      <th>barium</th>\n",
              "      <th>iron</th>\n",
              "      <th>types of glass</th>\n",
              "    </tr>\n",
              "  </thead>\n",
              "  <tbody>\n",
              "    <tr>\n",
              "      <th>0</th>\n",
              "      <td>69</td>\n",
              "      <td>1.52152</td>\n",
              "      <td>13.12</td>\n",
              "      <td>3.58</td>\n",
              "      <td>0.90</td>\n",
              "      <td>72.20</td>\n",
              "      <td>0.23</td>\n",
              "      <td>9.82</td>\n",
              "      <td>0.00</td>\n",
              "      <td>0.16</td>\n",
              "      <td>1</td>\n",
              "    </tr>\n",
              "    <tr>\n",
              "      <th>1</th>\n",
              "      <td>70</td>\n",
              "      <td>1.52300</td>\n",
              "      <td>13.31</td>\n",
              "      <td>3.58</td>\n",
              "      <td>0.82</td>\n",
              "      <td>71.99</td>\n",
              "      <td>0.12</td>\n",
              "      <td>10.17</td>\n",
              "      <td>0.00</td>\n",
              "      <td>0.03</td>\n",
              "      <td>1</td>\n",
              "    </tr>\n",
              "    <tr>\n",
              "      <th>2</th>\n",
              "      <td>144</td>\n",
              "      <td>1.51709</td>\n",
              "      <td>13.00</td>\n",
              "      <td>3.47</td>\n",
              "      <td>1.79</td>\n",
              "      <td>72.72</td>\n",
              "      <td>0.66</td>\n",
              "      <td>8.18</td>\n",
              "      <td>0.00</td>\n",
              "      <td>0.00</td>\n",
              "      <td>2</td>\n",
              "    </tr>\n",
              "    <tr>\n",
              "      <th>3</th>\n",
              "      <td>145</td>\n",
              "      <td>1.51660</td>\n",
              "      <td>12.99</td>\n",
              "      <td>3.18</td>\n",
              "      <td>1.23</td>\n",
              "      <td>72.97</td>\n",
              "      <td>0.58</td>\n",
              "      <td>8.81</td>\n",
              "      <td>0.00</td>\n",
              "      <td>0.24</td>\n",
              "      <td>2</td>\n",
              "    </tr>\n",
              "    <tr>\n",
              "      <th>4</th>\n",
              "      <td>146</td>\n",
              "      <td>1.51839</td>\n",
              "      <td>12.85</td>\n",
              "      <td>3.67</td>\n",
              "      <td>1.24</td>\n",
              "      <td>72.57</td>\n",
              "      <td>0.62</td>\n",
              "      <td>8.68</td>\n",
              "      <td>0.00</td>\n",
              "      <td>0.35</td>\n",
              "      <td>2</td>\n",
              "    </tr>\n",
              "    <tr>\n",
              "      <th>5</th>\n",
              "      <td>161</td>\n",
              "      <td>1.51832</td>\n",
              "      <td>13.33</td>\n",
              "      <td>3.34</td>\n",
              "      <td>1.54</td>\n",
              "      <td>72.14</td>\n",
              "      <td>0.56</td>\n",
              "      <td>8.99</td>\n",
              "      <td>0.00</td>\n",
              "      <td>0.00</td>\n",
              "      <td>3</td>\n",
              "    </tr>\n",
              "    <tr>\n",
              "      <th>6</th>\n",
              "      <td>162</td>\n",
              "      <td>1.51934</td>\n",
              "      <td>13.64</td>\n",
              "      <td>3.54</td>\n",
              "      <td>0.75</td>\n",
              "      <td>72.65</td>\n",
              "      <td>0.16</td>\n",
              "      <td>8.89</td>\n",
              "      <td>0.15</td>\n",
              "      <td>0.24</td>\n",
              "      <td>3</td>\n",
              "    </tr>\n",
              "    <tr>\n",
              "      <th>7</th>\n",
              "      <td>163</td>\n",
              "      <td>1.52211</td>\n",
              "      <td>14.19</td>\n",
              "      <td>3.78</td>\n",
              "      <td>0.91</td>\n",
              "      <td>71.36</td>\n",
              "      <td>0.23</td>\n",
              "      <td>9.14</td>\n",
              "      <td>0.00</td>\n",
              "      <td>0.37</td>\n",
              "      <td>3</td>\n",
              "    </tr>\n",
              "    <tr>\n",
              "      <th>8</th>\n",
              "      <td>174</td>\n",
              "      <td>1.52043</td>\n",
              "      <td>13.38</td>\n",
              "      <td>0.00</td>\n",
              "      <td>1.40</td>\n",
              "      <td>72.25</td>\n",
              "      <td>0.33</td>\n",
              "      <td>12.50</td>\n",
              "      <td>0.00</td>\n",
              "      <td>0.00</td>\n",
              "      <td>5</td>\n",
              "    </tr>\n",
              "    <tr>\n",
              "      <th>9</th>\n",
              "      <td>175</td>\n",
              "      <td>1.52058</td>\n",
              "      <td>12.85</td>\n",
              "      <td>1.61</td>\n",
              "      <td>2.17</td>\n",
              "      <td>72.18</td>\n",
              "      <td>0.76</td>\n",
              "      <td>9.70</td>\n",
              "      <td>0.24</td>\n",
              "      <td>0.51</td>\n",
              "      <td>5</td>\n",
              "    </tr>\n",
              "    <tr>\n",
              "      <th>10</th>\n",
              "      <td>176</td>\n",
              "      <td>1.52119</td>\n",
              "      <td>12.97</td>\n",
              "      <td>0.33</td>\n",
              "      <td>1.51</td>\n",
              "      <td>73.39</td>\n",
              "      <td>0.13</td>\n",
              "      <td>11.27</td>\n",
              "      <td>0.00</td>\n",
              "      <td>0.28</td>\n",
              "      <td>5</td>\n",
              "    </tr>\n",
              "    <tr>\n",
              "      <th>11</th>\n",
              "      <td>183</td>\n",
              "      <td>1.51916</td>\n",
              "      <td>14.15</td>\n",
              "      <td>0.00</td>\n",
              "      <td>2.09</td>\n",
              "      <td>72.74</td>\n",
              "      <td>0.00</td>\n",
              "      <td>10.88</td>\n",
              "      <td>0.00</td>\n",
              "      <td>0.00</td>\n",
              "      <td>6</td>\n",
              "    </tr>\n",
              "    <tr>\n",
              "      <th>12</th>\n",
              "      <td>184</td>\n",
              "      <td>1.51969</td>\n",
              "      <td>14.56</td>\n",
              "      <td>0.00</td>\n",
              "      <td>0.56</td>\n",
              "      <td>73.48</td>\n",
              "      <td>0.00</td>\n",
              "      <td>11.22</td>\n",
              "      <td>0.00</td>\n",
              "      <td>0.00</td>\n",
              "      <td>6</td>\n",
              "    </tr>\n",
              "    <tr>\n",
              "      <th>13</th>\n",
              "      <td>185</td>\n",
              "      <td>1.51115</td>\n",
              "      <td>17.38</td>\n",
              "      <td>0.00</td>\n",
              "      <td>0.34</td>\n",
              "      <td>75.41</td>\n",
              "      <td>0.00</td>\n",
              "      <td>6.65</td>\n",
              "      <td>0.00</td>\n",
              "      <td>0.00</td>\n",
              "      <td>6</td>\n",
              "    </tr>\n",
              "    <tr>\n",
              "      <th>14</th>\n",
              "      <td>212</td>\n",
              "      <td>1.52065</td>\n",
              "      <td>14.36</td>\n",
              "      <td>0.00</td>\n",
              "      <td>2.02</td>\n",
              "      <td>73.42</td>\n",
              "      <td>0.00</td>\n",
              "      <td>8.44</td>\n",
              "      <td>1.64</td>\n",
              "      <td>0.00</td>\n",
              "      <td>7</td>\n",
              "    </tr>\n",
              "    <tr>\n",
              "      <th>15</th>\n",
              "      <td>213</td>\n",
              "      <td>1.51651</td>\n",
              "      <td>14.38</td>\n",
              "      <td>0.00</td>\n",
              "      <td>1.94</td>\n",
              "      <td>73.61</td>\n",
              "      <td>0.00</td>\n",
              "      <td>8.48</td>\n",
              "      <td>1.57</td>\n",
              "      <td>0.00</td>\n",
              "      <td>7</td>\n",
              "    </tr>\n",
              "    <tr>\n",
              "      <th>16</th>\n",
              "      <td>214</td>\n",
              "      <td>1.51711</td>\n",
              "      <td>14.23</td>\n",
              "      <td>0.00</td>\n",
              "      <td>2.08</td>\n",
              "      <td>73.36</td>\n",
              "      <td>0.00</td>\n",
              "      <td>8.62</td>\n",
              "      <td>1.67</td>\n",
              "      <td>0.00</td>\n",
              "      <td>7</td>\n",
              "    </tr>\n",
              "  </tbody>\n",
              "</table>\n",
              "</div>\n",
              "      <button class=\"colab-df-convert\" onclick=\"convertToInteractive('df-ac734fca-db5d-48c0-bc41-793f2a7bb5a9')\"\n",
              "              title=\"Convert this dataframe to an interactive table.\"\n",
              "              style=\"display:none;\">\n",
              "        \n",
              "  <svg xmlns=\"http://www.w3.org/2000/svg\" height=\"24px\"viewBox=\"0 0 24 24\"\n",
              "       width=\"24px\">\n",
              "    <path d=\"M0 0h24v24H0V0z\" fill=\"none\"/>\n",
              "    <path d=\"M18.56 5.44l.94 2.06.94-2.06 2.06-.94-2.06-.94-.94-2.06-.94 2.06-2.06.94zm-11 1L8.5 8.5l.94-2.06 2.06-.94-2.06-.94L8.5 2.5l-.94 2.06-2.06.94zm10 10l.94 2.06.94-2.06 2.06-.94-2.06-.94-.94-2.06-.94 2.06-2.06.94z\"/><path d=\"M17.41 7.96l-1.37-1.37c-.4-.4-.92-.59-1.43-.59-.52 0-1.04.2-1.43.59L10.3 9.45l-7.72 7.72c-.78.78-.78 2.05 0 2.83L4 21.41c.39.39.9.59 1.41.59.51 0 1.02-.2 1.41-.59l7.78-7.78 2.81-2.81c.8-.78.8-2.07 0-2.86zM5.41 20L4 18.59l7.72-7.72 1.47 1.35L5.41 20z\"/>\n",
              "  </svg>\n",
              "      </button>\n",
              "      \n",
              "  <style>\n",
              "    .colab-df-container {\n",
              "      display:flex;\n",
              "      flex-wrap:wrap;\n",
              "      gap: 12px;\n",
              "    }\n",
              "\n",
              "    .colab-df-convert {\n",
              "      background-color: #E8F0FE;\n",
              "      border: none;\n",
              "      border-radius: 50%;\n",
              "      cursor: pointer;\n",
              "      display: none;\n",
              "      fill: #1967D2;\n",
              "      height: 32px;\n",
              "      padding: 0 0 0 0;\n",
              "      width: 32px;\n",
              "    }\n",
              "\n",
              "    .colab-df-convert:hover {\n",
              "      background-color: #E2EBFA;\n",
              "      box-shadow: 0px 1px 2px rgba(60, 64, 67, 0.3), 0px 1px 3px 1px rgba(60, 64, 67, 0.15);\n",
              "      fill: #174EA6;\n",
              "    }\n",
              "\n",
              "    [theme=dark] .colab-df-convert {\n",
              "      background-color: #3B4455;\n",
              "      fill: #D2E3FC;\n",
              "    }\n",
              "\n",
              "    [theme=dark] .colab-df-convert:hover {\n",
              "      background-color: #434B5C;\n",
              "      box-shadow: 0px 1px 3px 1px rgba(0, 0, 0, 0.15);\n",
              "      filter: drop-shadow(0px 1px 2px rgba(0, 0, 0, 0.3));\n",
              "      fill: #FFFFFF;\n",
              "    }\n",
              "  </style>\n",
              "\n",
              "      <script>\n",
              "        const buttonEl =\n",
              "          document.querySelector('#df-ac734fca-db5d-48c0-bc41-793f2a7bb5a9 button.colab-df-convert');\n",
              "        buttonEl.style.display =\n",
              "          google.colab.kernel.accessAllowed ? 'block' : 'none';\n",
              "\n",
              "        async function convertToInteractive(key) {\n",
              "          const element = document.querySelector('#df-ac734fca-db5d-48c0-bc41-793f2a7bb5a9');\n",
              "          const dataTable =\n",
              "            await google.colab.kernel.invokeFunction('convertToInteractive',\n",
              "                                                     [key], {});\n",
              "          if (!dataTable) return;\n",
              "\n",
              "          const docLinkHtml = 'Like what you see? Visit the ' +\n",
              "            '<a target=\"_blank\" href=https://colab.research.google.com/notebooks/data_table.ipynb>data table notebook</a>'\n",
              "            + ' to learn more about interactive tables.';\n",
              "          element.innerHTML = '';\n",
              "          dataTable['output_type'] = 'display_data';\n",
              "          await google.colab.output.renderOutput(dataTable, element);\n",
              "          const docLink = document.createElement('div');\n",
              "          docLink.innerHTML = docLinkHtml;\n",
              "          element.appendChild(docLink);\n",
              "        }\n",
              "      </script>\n",
              "    </div>\n",
              "  </div>\n",
              "  "
            ]
          },
          "metadata": {},
          "execution_count": 23
        }
      ]
    },
    {
      "cell_type": "code",
      "source": [
        "traindf.columns"
      ],
      "metadata": {
        "colab": {
          "base_uri": "https://localhost:8080/"
        },
        "id": "1_NOFdiq837Z",
        "outputId": "2cfa1f3c-b512-4200-8878-c21fe299001e"
      },
      "execution_count": 24,
      "outputs": [
        {
          "output_type": "execute_result",
          "data": {
            "text/plain": [
              "Index(['id', 'refractiveindex', 'sodium', 'magnesium', 'aluminum', 'silicon',\n",
              "       'potassium', 'calcium', 'barium', 'iron', 'types of glass'],\n",
              "      dtype='object')"
            ]
          },
          "metadata": {},
          "execution_count": 24
        }
      ]
    },
    {
      "cell_type": "code",
      "source": [
        "for i in ['sodium', 'magnesium', 'aluminum', 'silicon',\n",
        "       'potassium', 'calcium', 'barium', 'iron']:\n",
        "       sns.kdeplot(traindf[i])\n",
        "       plt.show()"
      ],
      "metadata": {
        "colab": {
          "base_uri": "https://localhost:8080/",
          "height": 1000
        },
        "id": "EWyND9kb9Vrx",
        "outputId": "a830170e-7bff-406c-d7ce-21730905748b"
      },
      "execution_count": 27,
      "outputs": [
        {
          "output_type": "display_data",
          "data": {
            "text/plain": [
              "<Figure size 432x288 with 1 Axes>"
            ],
            "image/png": "[encoded data removed]"
          },
          "metadata": {
            "needs_background": "light"
          }
        },
        {
          "output_type": "display_data",
          "data": {
            "text/plain": [
              "<Figure size 432x288 with 1 Axes>"
            ],
            "image/png": "[encoded data removed]"
          },
          "metadata": {
            "needs_background": "light"
          }
        },
        {
          "output_type": "display_data",
          "data": {
            "text/plain": [
              "<Figure size 432x288 with 1 Axes>"
            ],
            "image/png": "[encoded data removed]"
          },
          "metadata": {
            "needs_background": "light"
          }
        },
        {
          "output_type": "display_data",
          "data": {
            "text/plain": [
              "<Figure size 432x288 with 1 Axes>"
            ],
            "image/png": "[encoded data removed]"
          },
          "metadata": {
            "needs_background": "light"
          }
        },
        {
          "output_type": "display_data",
          "data": {
            "text/plain": [
              "<Figure size 432x288 with 1 Axes>"
            ],
            "image/png": "[encoded data removed]"
          },
          "metadata": {
            "needs_background": "light"
          }
        },
        {
          "output_type": "display_data",
          "data": {
            "text/plain": [
              "<Figure size 432x288 with 1 Axes>"
            ],
            "image/png": "[encoded data removed]"
          },
          "metadata": {
            "needs_background": "light"
          }
        },
        {
          "output_type": "display_data",
          "data": {
            "text/plain": [
              "<Figure size 432x288 with 1 Axes>"
            ],
            "image/png": "[encoded data removed]"
          },
          "metadata": {
            "needs_background": "light"
          }
        },
        {
          "output_type": "display_data",
          "data": {
            "text/plain": [
              "<Figure size 432x288 with 1 Axes>"
            ],
            "image/png": "[encoded data removed]"
          },
          "metadata": {
            "needs_background": "light"
          }
        }
      ]
    },
    {
      "cell_type": "code",
      "source": [
        "x = traindf[['sodium', 'magnesium', 'aluminum', 'silicon','potassium', 'calcium','barium', 'iron']]\n",
        "y = traindf['types of glass']\n",
        "# "
      ],
      "metadata": {
        "id": "eYBQv1Ma-mtn"
      },
      "execution_count": 61,
      "outputs": []
    },
    {
      "cell_type": "code",
      "source": [
        "x_train,x_test,y_train,y_test = train_test_split(x,y,test_size = 0.33,random_state = 10)"
      ],
      "metadata": {
        "id": "3qnDMC8V--GO"
      },
      "execution_count": 62,
      "outputs": []
    },
    {
      "cell_type": "code",
      "source": [
        "scaler = MinMaxScaler()\n",
        "tx_train = scaler.fit_transform(x_train)\n",
        "tx_test = scaler.transform(x_test)"
      ],
      "metadata": {
        "id": "eN_81UWz_LXL"
      },
      "execution_count": 63,
      "outputs": []
    },
    {
      "cell_type": "code",
      "source": [
        "score = []\n",
        "for i in range(1,40):\n",
        "  knn = KNeighborsClassifier(n_neighbors=i)\n",
        "  knn.fit(tx_train,y_train)\n",
        "  score.append(knn.score(tx_test,y_test))"
      ],
      "metadata": {
        "id": "k1R371ib9iJS"
      },
      "execution_count": 64,
      "outputs": []
    },
    {
      "cell_type": "code",
      "source": [
        "plt.plot(range(1,40),score,'o--m')\n",
        "plt.xlabel('range')\n",
        "plt.ylabel('accuracy')\n"
      ],
      "metadata": {
        "colab": {
          "base_uri": "https://localhost:8080/",
          "height": 296
        },
        "id": "cf5cuPm5-MzZ",
        "outputId": "9906949f-2064-4ebd-a4f4-2781b9a269fe"
      },
      "execution_count": 65,
      "outputs": [
        {
          "output_type": "execute_result",
          "data": {
            "text/plain": [
              "Text(0, 0.5, 'accuracy')"
            ]
          },
          "metadata": {},
          "execution_count": 65
        },
        {
          "output_type": "display_data",
          "data": {
            "text/plain": [
              "<Figure size 432x288 with 1 Axes>"
            ],
            "image/png": "[encoded data removed]"
          },
          "metadata": {
            "needs_background": "light"
          }
        }
      ]
    },
    {
      "cell_type": "markdown",
      "source": [
        "### k= 20 is optimum "
      ],
      "metadata": {
        "id": "RjAbDTcRAKKK"
      }
    },
    {
      "cell_type": "code",
      "source": [
        "knn  =    KNeighborsClassifier(n_neighbors=20)\n",
        "knn.fit(tx_train,y_train)\n",
        "pred = knn.predict(tx_test)"
      ],
      "metadata": {
        "id": "TIT5HC4g_uZg"
      },
      "execution_count": 72,
      "outputs": []
    },
    {
      "cell_type": "code",
      "source": [
        "confusion_matrix(y_test,pred)"
      ],
      "metadata": {
        "colab": {
          "base_uri": "https://localhost:8080/"
        },
        "id": "hT2QVtS5Aj90",
        "outputId": "7c6d4dbf-f86b-49be-d1e6-9447db789562"
      },
      "execution_count": 73,
      "outputs": [
        {
          "output_type": "execute_result",
          "data": {
            "text/plain": [
              "array([[20,  4,  0,  0,  0,  0],\n",
              "       [ 5, 20,  0,  0,  0,  1],\n",
              "       [ 3,  1,  0,  0,  0,  0],\n",
              "       [ 1,  0,  0,  0,  0,  1],\n",
              "       [ 2,  0,  0,  0,  0,  0],\n",
              "       [ 1,  0,  0,  0,  0,  6]])"
            ]
          },
          "metadata": {},
          "execution_count": 73
        }
      ]
    },
    {
      "cell_type": "code",
      "source": [
        "accuracy_score(y_test,pred)"
      ],
      "metadata": {
        "colab": {
          "base_uri": "https://localhost:8080/"
        },
        "id": "cbqLBMcHBUJW",
        "outputId": "2e2b3d9c-1d95-4e01-b598-c93bf297a651"
      },
      "execution_count": 74,
      "outputs": [
        {
          "output_type": "execute_result",
          "data": {
            "text/plain": [
              "0.7076923076923077"
            ]
          },
          "metadata": {},
          "execution_count": 74
        }
      ]
    },
    {
      "cell_type": "markdown",
      "source": [
        "### Testing "
      ],
      "metadata": {
        "id": "2Ar0iDFHDMLn"
      }
    },
    {
      "cell_type": "code",
      "source": [
        "yt = testdf['types of glass']\n",
        "yt"
      ],
      "metadata": {
        "colab": {
          "base_uri": "https://localhost:8080/"
        },
        "id": "5nGsLrkXDOze",
        "outputId": "18493b52-c298-49d6-efc1-d7121f97e824"
      },
      "execution_count": 87,
      "outputs": [
        {
          "output_type": "execute_result",
          "data": {
            "text/plain": [
              "0     1\n",
              "1     1\n",
              "2     2\n",
              "3     2\n",
              "4     2\n",
              "5     3\n",
              "6     3\n",
              "7     3\n",
              "8     5\n",
              "9     5\n",
              "10    5\n",
              "11    6\n",
              "12    6\n",
              "13    6\n",
              "14    7\n",
              "15    7\n",
              "16    7\n",
              "Name: types of glass, dtype: int64"
            ]
          },
          "metadata": {},
          "execution_count": 87
        }
      ]
    },
    {
      "cell_type": "code",
      "source": [
        "xt = testdf[['sodium','magnesium','aluminum','silicon','potassium','calcium','barium','iron']]"
      ],
      "metadata": {
        "id": "JPzRqAfYDUnh"
      },
      "execution_count": 78,
      "outputs": []
    },
    {
      "cell_type": "code",
      "source": [
        "xt"
      ],
      "metadata": {
        "colab": {
          "base_uri": "https://localhost:8080/",
          "height": 582
        },
        "id": "TYkE02n4DbLQ",
        "outputId": "ae29e03f-2d50-477f-ed4d-6546db9c7da5"
      },
      "execution_count": 79,
      "outputs": [
        {
          "output_type": "execute_result",
          "data": {
            "text/plain": [
              "    sodium  magnesium  aluminum  silicon  potassium  calcium  barium  iron\n",
              "0    13.12       3.58      0.90    72.20       0.23     9.82    0.00  0.16\n",
              "1    13.31       3.58      0.82    71.99       0.12    10.17    0.00  0.03\n",
              "2    13.00       3.47      1.79    72.72       0.66     8.18    0.00  0.00\n",
              "3    12.99       3.18      1.23    72.97       0.58     8.81    0.00  0.24\n",
              "4    12.85       3.67      1.24    72.57       0.62     8.68    0.00  0.35\n",
              "5    13.33       3.34      1.54    72.14       0.56     8.99    0.00  0.00\n",
              "6    13.64       3.54      0.75    72.65       0.16     8.89    0.15  0.24\n",
              "7    14.19       3.78      0.91    71.36       0.23     9.14    0.00  0.37\n",
              "8    13.38       0.00      1.40    72.25       0.33    12.50    0.00  0.00\n",
              "9    12.85       1.61      2.17    72.18       0.76     9.70    0.24  0.51\n",
              "10   12.97       0.33      1.51    73.39       0.13    11.27    0.00  0.28\n",
              "11   14.15       0.00      2.09    72.74       0.00    10.88    0.00  0.00\n",
              "12   14.56       0.00      0.56    73.48       0.00    11.22    0.00  0.00\n",
              "13   17.38       0.00      0.34    75.41       0.00     6.65    0.00  0.00\n",
              "14   14.36       0.00      2.02    73.42       0.00     8.44    1.64  0.00\n",
              "15   14.38       0.00      1.94    73.61       0.00     8.48    1.57  0.00\n",
              "16   14.23       0.00      2.08    73.36       0.00     8.62    1.67  0.00"
            ],
            "text/html": [
              "\n",
              "  <div id=\"df-42f2caa1-e885-41b3-a738-677a2bc4e366\">\n",
              "    <div class=\"colab-df-container\">\n",
              "      <div>\n",
              "<style scoped>\n",
              "    .dataframe tbody tr th:only-of-type {\n",
              "        vertical-align: middle;\n",
              "    }\n",
              "\n",
              "    .dataframe tbody tr th {\n",
              "        vertical-align: top;\n",
              "    }\n",
              "\n",
              "    .dataframe thead th {\n",
              "        text-align: right;\n",
              "    }\n",
              "</style>\n",
              "<table border=\"1\" class=\"dataframe\">\n",
              "  <thead>\n",
              "    <tr style=\"text-align: right;\">\n",
              "      <th></th>\n",
              "      <th>sodium</th>\n",
              "      <th>magnesium</th>\n",
              "      <th>aluminum</th>\n",
              "      <th>silicon</th>\n",
              "      <th>potassium</th>\n",
              "      <th>calcium</th>\n",
              "      <th>barium</th>\n",
              "      <th>iron</th>\n",
              "    </tr>\n",
              "  </thead>\n",
              "  <tbody>\n",
              "    <tr>\n",
              "      <th>0</th>\n",
              "      <td>13.12</td>\n",
              "      <td>3.58</td>\n",
              "      <td>0.90</td>\n",
              "      <td>72.20</td>\n",
              "      <td>0.23</td>\n",
              "      <td>9.82</td>\n",
              "      <td>0.00</td>\n",
              "      <td>0.16</td>\n",
              "    </tr>\n",
              "    <tr>\n",
              "      <th>1</th>\n",
              "      <td>13.31</td>\n",
              "      <td>3.58</td>\n",
              "      <td>0.82</td>\n",
              "      <td>71.99</td>\n",
              "      <td>0.12</td>\n",
              "      <td>10.17</td>\n",
              "      <td>0.00</td>\n",
              "      <td>0.03</td>\n",
              "    </tr>\n",
              "    <tr>\n",
              "      <th>2</th>\n",
              "      <td>13.00</td>\n",
              "      <td>3.47</td>\n",
              "      <td>1.79</td>\n",
              "      <td>72.72</td>\n",
              "      <td>0.66</td>\n",
              "      <td>8.18</td>\n",
              "      <td>0.00</td>\n",
              "      <td>0.00</td>\n",
              "    </tr>\n",
              "    <tr>\n",
              "      <th>3</th>\n",
              "      <td>12.99</td>\n",
              "      <td>3.18</td>\n",
              "      <td>1.23</td>\n",
              "      <td>72.97</td>\n",
              "      <td>0.58</td>\n",
              "      <td>8.81</td>\n",
              "      <td>0.00</td>\n",
              "      <td>0.24</td>\n",
              "    </tr>\n",
              "    <tr>\n",
              "      <th>4</th>\n",
              "      <td>12.85</td>\n",
              "      <td>3.67</td>\n",
              "      <td>1.24</td>\n",
              "      <td>72.57</td>\n",
              "      <td>0.62</td>\n",
              "      <td>8.68</td>\n",
              "      <td>0.00</td>\n",
              "      <td>0.35</td>\n",
              "    </tr>\n",
              "    <tr>\n",
              "      <th>5</th>\n",
              "      <td>13.33</td>\n",
              "      <td>3.34</td>\n",
              "      <td>1.54</td>\n",
              "      <td>72.14</td>\n",
              "      <td>0.56</td>\n",
              "      <td>8.99</td>\n",
              "      <td>0.00</td>\n",
              "      <td>0.00</td>\n",
              "    </tr>\n",
              "    <tr>\n",
              "      <th>6</th>\n",
              "      <td>13.64</td>\n",
              "      <td>3.54</td>\n",
              "      <td>0.75</td>\n",
              "      <td>72.65</td>\n",
              "      <td>0.16</td>\n",
              "      <td>8.89</td>\n",
              "      <td>0.15</td>\n",
              "      <td>0.24</td>\n",
              "    </tr>\n",
              "    <tr>\n",
              "      <th>7</th>\n",
              "      <td>14.19</td>\n",
              "      <td>3.78</td>\n",
              "      <td>0.91</td>\n",
              "      <td>71.36</td>\n",
              "      <td>0.23</td>\n",
              "      <td>9.14</td>\n",
              "      <td>0.00</td>\n",
              "      <td>0.37</td>\n",
              "    </tr>\n",
              "    <tr>\n",
              "      <th>8</th>\n",
              "      <td>13.38</td>\n",
              "      <td>0.00</td>\n",
              "      <td>1.40</td>\n",
              "      <td>72.25</td>\n",
              "      <td>0.33</td>\n",
              "      <td>12.50</td>\n",
              "      <td>0.00</td>\n",
              "      <td>0.00</td>\n",
              "    </tr>\n",
              "    <tr>\n",
              "      <th>9</th>\n",
              "      <td>12.85</td>\n",
              "      <td>1.61</td>\n",
              "      <td>2.17</td>\n",
              "      <td>72.18</td>\n",
              "      <td>0.76</td>\n",
              "      <td>9.70</td>\n",
              "      <td>0.24</td>\n",
              "      <td>0.51</td>\n",
              "    </tr>\n",
              "    <tr>\n",
              "      <th>10</th>\n",
              "      <td>12.97</td>\n",
              "      <td>0.33</td>\n",
              "      <td>1.51</td>\n",
              "      <td>73.39</td>\n",
              "      <td>0.13</td>\n",
              "      <td>11.27</td>\n",
              "      <td>0.00</td>\n",
              "      <td>0.28</td>\n",
              "    </tr>\n",
              "    <tr>\n",
              "      <th>11</th>\n",
              "      <td>14.15</td>\n",
              "      <td>0.00</td>\n",
              "      <td>2.09</td>\n",
              "      <td>72.74</td>\n",
              "      <td>0.00</td>\n",
              "      <td>10.88</td>\n",
              "      <td>0.00</td>\n",
              "      <td>0.00</td>\n",
              "    </tr>\n",
              "    <tr>\n",
              "      <th>12</th>\n",
              "      <td>14.56</td>\n",
              "      <td>0.00</td>\n",
              "      <td>0.56</td>\n",
              "      <td>73.48</td>\n",
              "      <td>0.00</td>\n",
              "      <td>11.22</td>\n",
              "      <td>0.00</td>\n",
              "      <td>0.00</td>\n",
              "    </tr>\n",
              "    <tr>\n",
              "      <th>13</th>\n",
              "      <td>17.38</td>\n",
              "      <td>0.00</td>\n",
              "      <td>0.34</td>\n",
              "      <td>75.41</td>\n",
              "      <td>0.00</td>\n",
              "      <td>6.65</td>\n",
              "      <td>0.00</td>\n",
              "      <td>0.00</td>\n",
              "    </tr>\n",
              "    <tr>\n",
              "      <th>14</th>\n",
              "      <td>14.36</td>\n",
              "      <td>0.00</td>\n",
              "      <td>2.02</td>\n",
              "      <td>73.42</td>\n",
              "      <td>0.00</td>\n",
              "      <td>8.44</td>\n",
              "      <td>1.64</td>\n",
              "      <td>0.00</td>\n",
              "    </tr>\n",
              "    <tr>\n",
              "      <th>15</th>\n",
              "      <td>14.38</td>\n",
              "      <td>0.00</td>\n",
              "      <td>1.94</td>\n",
              "      <td>73.61</td>\n",
              "      <td>0.00</td>\n",
              "      <td>8.48</td>\n",
              "      <td>1.57</td>\n",
              "      <td>0.00</td>\n",
              "    </tr>\n",
              "    <tr>\n",
              "      <th>16</th>\n",
              "      <td>14.23</td>\n",
              "      <td>0.00</td>\n",
              "      <td>2.08</td>\n",
              "      <td>73.36</td>\n",
              "      <td>0.00</td>\n",
              "      <td>8.62</td>\n",
              "      <td>1.67</td>\n",
              "      <td>0.00</td>\n",
              "    </tr>\n",
              "  </tbody>\n",
              "</table>\n",
              "</div>\n",
              "      <button class=\"colab-df-convert\" onclick=\"convertToInteractive('df-42f2caa1-e885-41b3-a738-677a2bc4e366')\"\n",
              "              title=\"Convert this dataframe to an interactive table.\"\n",
              "              style=\"display:none;\">\n",
              "        \n",
              "  <svg xmlns=\"http://www.w3.org/2000/svg\" height=\"24px\"viewBox=\"0 0 24 24\"\n",
              "       width=\"24px\">\n",
              "    <path d=\"M0 0h24v24H0V0z\" fill=\"none\"/>\n",
              "    <path d=\"M18.56 5.44l.94 2.06.94-2.06 2.06-.94-2.06-.94-.94-2.06-.94 2.06-2.06.94zm-11 1L8.5 8.5l.94-2.06 2.06-.94-2.06-.94L8.5 2.5l-.94 2.06-2.06.94zm10 10l.94 2.06.94-2.06 2.06-.94-2.06-.94-.94-2.06-.94 2.06-2.06.94z\"/><path d=\"M17.41 7.96l-1.37-1.37c-.4-.4-.92-.59-1.43-.59-.52 0-1.04.2-1.43.59L10.3 9.45l-7.72 7.72c-.78.78-.78 2.05 0 2.83L4 21.41c.39.39.9.59 1.41.59.51 0 1.02-.2 1.41-.59l7.78-7.78 2.81-2.81c.8-.78.8-2.07 0-2.86zM5.41 20L4 18.59l7.72-7.72 1.47 1.35L5.41 20z\"/>\n",
              "  </svg>\n",
              "      </button>\n",
              "      \n",
              "  <style>\n",
              "    .colab-df-container {\n",
              "      display:flex;\n",
              "      flex-wrap:wrap;\n",
              "      gap: 12px;\n",
              "    }\n",
              "\n",
              "    .colab-df-convert {\n",
              "      background-color: #E8F0FE;\n",
              "      border: none;\n",
              "      border-radius: 50%;\n",
              "      cursor: pointer;\n",
              "      display: none;\n",
              "      fill: #1967D2;\n",
              "      height: 32px;\n",
              "      padding: 0 0 0 0;\n",
              "      width: 32px;\n",
              "    }\n",
              "\n",
              "    .colab-df-convert:hover {\n",
              "      background-color: #E2EBFA;\n",
              "      box-shadow: 0px 1px 2px rgba(60, 64, 67, 0.3), 0px 1px 3px 1px rgba(60, 64, 67, 0.15);\n",
              "      fill: #174EA6;\n",
              "    }\n",
              "\n",
              "    [theme=dark] .colab-df-convert {\n",
              "      background-color: #3B4455;\n",
              "      fill: #D2E3FC;\n",
              "    }\n",
              "\n",
              "    [theme=dark] .colab-df-convert:hover {\n",
              "      background-color: #434B5C;\n",
              "      box-shadow: 0px 1px 3px 1px rgba(0, 0, 0, 0.15);\n",
              "      filter: drop-shadow(0px 1px 2px rgba(0, 0, 0, 0.3));\n",
              "      fill: #FFFFFF;\n",
              "    }\n",
              "  </style>\n",
              "\n",
              "      <script>\n",
              "        const buttonEl =\n",
              "          document.querySelector('#df-42f2caa1-e885-41b3-a738-677a2bc4e366 button.colab-df-convert');\n",
              "        buttonEl.style.display =\n",
              "          google.colab.kernel.accessAllowed ? 'block' : 'none';\n",
              "\n",
              "        async function convertToInteractive(key) {\n",
              "          const element = document.querySelector('#df-42f2caa1-e885-41b3-a738-677a2bc4e366');\n",
              "          const dataTable =\n",
              "            await google.colab.kernel.invokeFunction('convertToInteractive',\n",
              "                                                     [key], {});\n",
              "          if (!dataTable) return;\n",
              "\n",
              "          const docLinkHtml = 'Like what you see? Visit the ' +\n",
              "            '<a target=\"_blank\" href=https://colab.research.google.com/notebooks/data_table.ipynb>data table notebook</a>'\n",
              "            + ' to learn more about interactive tables.';\n",
              "          element.innerHTML = '';\n",
              "          dataTable['output_type'] = 'display_data';\n",
              "          await google.colab.output.renderOutput(dataTable, element);\n",
              "          const docLink = document.createElement('div');\n",
              "          docLink.innerHTML = docLinkHtml;\n",
              "          element.appendChild(docLink);\n",
              "        }\n",
              "      </script>\n",
              "    </div>\n",
              "  </div>\n",
              "  "
            ]
          },
          "metadata": {},
          "execution_count": 79
        }
      ]
    },
    {
      "cell_type": "code",
      "source": [
        "txt = scaler.transform(xt)\n",
        "predt = knn.predict(txt)"
      ],
      "metadata": {
        "id": "IpD0yqfSDuoE"
      },
      "execution_count": 91,
      "outputs": []
    },
    {
      "cell_type": "code",
      "source": [
        "confusion_matrix(yt,predt)"
      ],
      "metadata": {
        "colab": {
          "base_uri": "https://localhost:8080/"
        },
        "id": "hWjs1SL-Dz3x",
        "outputId": "1aa76476-7fa7-4c5c-f6c8-229e496e63d9"
      },
      "execution_count": 92,
      "outputs": [
        {
          "output_type": "execute_result",
          "data": {
            "text/plain": [
              "array([[1, 1, 0, 0, 0, 0],\n",
              "       [0, 3, 0, 0, 0, 0],\n",
              "       [0, 3, 0, 0, 0, 0],\n",
              "       [1, 1, 0, 0, 0, 1],\n",
              "       [0, 0, 0, 0, 0, 3],\n",
              "       [0, 0, 0, 0, 0, 3]])"
            ]
          },
          "metadata": {},
          "execution_count": 92
        }
      ]
    },
    {
      "cell_type": "code",
      "source": [
        "accuracy_score(yt,predt)"
      ],
      "metadata": {
        "colab": {
          "base_uri": "https://localhost:8080/"
        },
        "id": "olDoAsb8EX6V",
        "outputId": "028f6000-b58b-425a-cb05-e6085b866b2c"
      },
      "execution_count": 94,
      "outputs": [
        {
          "output_type": "execute_result",
          "data": {
            "text/plain": [
              "0.4117647058823529"
            ]
          },
          "metadata": {},
          "execution_count": 94
        }
      ]
    },
    {
      "cell_type": "code",
      "source": [
        ""
      ],
      "metadata": {
        "id": "NQvTo1U6Em1d"
      },
      "execution_count": null,
      "outputs": []
    }
  ]
}